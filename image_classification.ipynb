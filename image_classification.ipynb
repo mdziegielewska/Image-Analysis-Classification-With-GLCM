{
 "cells": [
  {
   "attachments": {},
   "cell_type": "markdown",
   "metadata": {},
   "source": [
    "# Projekt z przedmiotu Metody Klasyfikacji Danych Geoinformatycznych - Etap 3"
   ]
  },
  {
   "attachments": {},
   "cell_type": "markdown",
   "metadata": {},
   "source": [
    "### Analiza/klasyfikacja dowolnych obrazów za pomocą macierzy wspólnych wystąpień (Grey Level Co-occurence Matrices - GLCM)"
   ]
  },
  {
   "attachments": {},
   "cell_type": "markdown",
   "metadata": {},
   "source": [
    "#### Skład zespołu: Marta Dzięgielewska s176363, Maciej Gielert s176137"
   ]
  },
  {
   "attachments": {},
   "cell_type": "markdown",
   "metadata": {},
   "source": [
    "##### Link do etapu 1: https://docs.google.com/document/d/1HsTw6qhrXO0SoeWtg8hENvtkOi2oqkhV-VhOnhndA5s/edit?usp=sharing"
   ]
  },
  {
   "attachments": {},
   "cell_type": "markdown",
   "metadata": {},
   "source": [
    "##### Link do etapu 2: https://github.com/mdziegielewska/Image-Analysis-Classification-With-GLCM/blob/main/texture_analysis.ipynb"
   ]
  },
  {
   "cell_type": "code",
   "execution_count": 96,
   "metadata": {},
   "outputs": [],
   "source": [
    "# imports\n",
    "\n",
    "import tensorflow as tf\n",
    "import numpy as np\n",
    "import skimage.transform\n",
    "from scipy import ndimage\n",
    "import matplotlib.pyplot as plt\n",
    "from sklearn.model_selection import train_test_split\n",
    "import seaborn as sns\n",
    "import pandas as pd\n",
    "from sklearn import preprocessing\n",
    "from skimage.color import label2rgb\n",
    "from skimage.util import montage as montage2d\n",
    "from skimage.feature import graycomatrix, graycoprops\n",
    "import cv2\n",
    "import glob\n",
    "import os\n",
    "\n",
    "%matplotlib inline"
   ]
  },
  {
   "attachments": {},
   "cell_type": "markdown",
   "metadata": {},
   "source": [
    "##### Dataset do pobrania: https://www.robots.ox.ac.uk/~vgg/data/dtd/"
   ]
  },
  {
   "cell_type": "code",
   "execution_count": 97,
   "metadata": {},
   "outputs": [],
   "source": [
    "SIZE = 128\n",
    "\n",
    "# capture images and labels into arrays\n",
    "\n",
    "images = []\n",
    "labels = [] \n",
    "\n",
    "for directory_path in glob.glob(\"dtd/images/*/\"):\n",
    "    label = os.path.basename(os.path.dirname(directory_path))\n",
    "\n",
    "    for img_path in glob.glob(os.path.join(directory_path, \"*.jpg\")):\n",
    "        # reading images in grayscale\n",
    "        img = cv2.imread(img_path, 0)\n",
    "        img = cv2.resize(img, (SIZE, SIZE))\n",
    "\n",
    "        images.append(img)\n",
    "        labels.append(label)\n",
    "\n",
    "images = np.array(images)\n",
    "labels = np.asarray(labels)"
   ]
  },
  {
   "cell_type": "code",
   "execution_count": 98,
   "metadata": {},
   "outputs": [
    {
     "name": "stdout",
     "output_type": "stream",
     "text": [
      "(5640, 128, 128)\n",
      "(5640,)\n"
     ]
    }
   ],
   "source": [
    "print(images.shape)\n",
    "print(labels.shape)"
   ]
  },
  {
   "cell_type": "code",
   "execution_count": 99,
   "metadata": {},
   "outputs": [],
   "source": [
    "# encode labels from text (folder names) to integers.\n",
    "\n",
    "encoder = preprocessing.LabelEncoder()\n",
    "encoder.fit(labels)\n",
    "labels = encoder.transform(labels)"
   ]
  },
  {
   "cell_type": "code",
   "execution_count": 100,
   "metadata": {},
   "outputs": [],
   "source": [
    "# test train split\n",
    "\n",
    "X_train, X_test, y_train, y_test = train_test_split(images, labels, test_size=0.2, random_state=42)"
   ]
  },
  {
   "cell_type": "code",
   "execution_count": 101,
   "metadata": {},
   "outputs": [],
   "source": [
    "grayco_prop_list = ['contrast', 'dissimilarity', 'homogeneity', 'energy', 'correlation', 'ASM']"
   ]
  },
  {
   "cell_type": "code",
   "execution_count": 115,
   "metadata": {},
   "outputs": [],
   "source": [
    "# feature extractor function\n",
    "\n",
    "def feature_extractor(dataset):\n",
    "    image_dataset = pd.DataFrame()\n",
    "\n",
    "    for image in range(dataset.shape[0]):\n",
    "        df = pd.DataFrame() \n",
    "        for angle in [0, np.pi/4, np.pi/2, 3*np.pi/4]:\n",
    "            for distance in [0,1,3,5]:\n",
    "                for greylevel in [256]:\n",
    "                \n",
    "                    img = dataset[image, :, :]\n",
    "                    #print(img.shape)\n",
    "\n",
    "                    # calculate glcm\n",
    "                    glcm = graycomatrix(img, distances=[distance], angles=[angle], levels=greylevel, symmetric=True, normed=True)\n",
    "\n",
    "                    for prop in grayco_prop_list: \n",
    "                        glcm_prop = graycoprops(glcm, prop)[0]\n",
    "                        df[f'{prop}{angle}{distance}{greylevel}'] = glcm_prop\n",
    "\n",
    "                    # append features from current image to the dataset\n",
    "        image_dataset = image_dataset.append(df)\n",
    "        \n",
    "    return image_dataset"
   ]
  },
  {
   "attachments": {},
   "cell_type": "markdown",
   "metadata": {},
   "source": []
  },
  {
   "cell_type": "code",
   "execution_count": 155,
   "metadata": {},
   "outputs": [],
   "source": [
    "# extract features from training images\n",
    "\n",
    "#image_features_train = feature_extractor(X_train)\n",
    "train_data = image_features_train.to_numpy()\n",
    "\n",
    "#image_features_test = feature_extractor(X_test)\n",
    "test_data = image_features_test.to_numpy()"
   ]
  },
  {
   "cell_type": "code",
   "execution_count": 156,
   "metadata": {},
   "outputs": [
    {
     "data": {
      "text/html": [
       "<div>\n",
       "<style scoped>\n",
       "    .dataframe tbody tr th:only-of-type {\n",
       "        vertical-align: middle;\n",
       "    }\n",
       "\n",
       "    .dataframe tbody tr th {\n",
       "        vertical-align: top;\n",
       "    }\n",
       "\n",
       "    .dataframe thead th {\n",
       "        text-align: right;\n",
       "    }\n",
       "</style>\n",
       "<table border=\"1\" class=\"dataframe\">\n",
       "  <thead>\n",
       "    <tr style=\"text-align: right;\">\n",
       "      <th></th>\n",
       "      <th>contrast00256</th>\n",
       "      <th>dissimilarity00256</th>\n",
       "      <th>homogeneity00256</th>\n",
       "      <th>energy00256</th>\n",
       "      <th>correlation00256</th>\n",
       "      <th>ASM00256</th>\n",
       "      <th>contrast01256</th>\n",
       "      <th>dissimilarity01256</th>\n",
       "      <th>homogeneity01256</th>\n",
       "      <th>energy01256</th>\n",
       "      <th>...</th>\n",
       "      <th>homogeneity2.3561944901923453256</th>\n",
       "      <th>energy2.3561944901923453256</th>\n",
       "      <th>correlation2.3561944901923453256</th>\n",
       "      <th>ASM2.3561944901923453256</th>\n",
       "      <th>contrast2.3561944901923455256</th>\n",
       "      <th>dissimilarity2.3561944901923455256</th>\n",
       "      <th>homogeneity2.3561944901923455256</th>\n",
       "      <th>energy2.3561944901923455256</th>\n",
       "      <th>correlation2.3561944901923455256</th>\n",
       "      <th>ASM2.3561944901923455256</th>\n",
       "    </tr>\n",
       "  </thead>\n",
       "  <tbody>\n",
       "    <tr>\n",
       "      <th>0</th>\n",
       "      <td>0.0</td>\n",
       "      <td>0.0</td>\n",
       "      <td>1.0</td>\n",
       "      <td>0.109267</td>\n",
       "      <td>1.0</td>\n",
       "      <td>0.011939</td>\n",
       "      <td>129.773991</td>\n",
       "      <td>7.674705</td>\n",
       "      <td>0.154860</td>\n",
       "      <td>0.022015</td>\n",
       "      <td>...</td>\n",
       "      <td>0.111265</td>\n",
       "      <td>0.019183</td>\n",
       "      <td>0.857710</td>\n",
       "      <td>0.000368</td>\n",
       "      <td>674.418835</td>\n",
       "      <td>16.474246</td>\n",
       "      <td>0.084893</td>\n",
       "      <td>0.017725</td>\n",
       "      <td>0.723170</td>\n",
       "      <td>0.000314</td>\n",
       "    </tr>\n",
       "    <tr>\n",
       "      <th>0</th>\n",
       "      <td>0.0</td>\n",
       "      <td>0.0</td>\n",
       "      <td>1.0</td>\n",
       "      <td>0.089057</td>\n",
       "      <td>1.0</td>\n",
       "      <td>0.007931</td>\n",
       "      <td>2485.057825</td>\n",
       "      <td>39.998278</td>\n",
       "      <td>0.023768</td>\n",
       "      <td>0.009696</td>\n",
       "      <td>...</td>\n",
       "      <td>0.024970</td>\n",
       "      <td>0.009696</td>\n",
       "      <td>0.008804</td>\n",
       "      <td>0.000094</td>\n",
       "      <td>2395.573556</td>\n",
       "      <td>39.382999</td>\n",
       "      <td>0.025601</td>\n",
       "      <td>0.009755</td>\n",
       "      <td>0.023315</td>\n",
       "      <td>0.000095</td>\n",
       "    </tr>\n",
       "    <tr>\n",
       "      <th>0</th>\n",
       "      <td>0.0</td>\n",
       "      <td>0.0</td>\n",
       "      <td>1.0</td>\n",
       "      <td>0.086952</td>\n",
       "      <td>1.0</td>\n",
       "      <td>0.007561</td>\n",
       "      <td>417.124446</td>\n",
       "      <td>11.890933</td>\n",
       "      <td>0.136776</td>\n",
       "      <td>0.016973</td>\n",
       "      <td>...</td>\n",
       "      <td>0.074291</td>\n",
       "      <td>0.012921</td>\n",
       "      <td>0.739375</td>\n",
       "      <td>0.000167</td>\n",
       "      <td>3342.736863</td>\n",
       "      <td>40.981660</td>\n",
       "      <td>0.052787</td>\n",
       "      <td>0.011009</td>\n",
       "      <td>0.438049</td>\n",
       "      <td>0.000121</td>\n",
       "    </tr>\n",
       "    <tr>\n",
       "      <th>0</th>\n",
       "      <td>0.0</td>\n",
       "      <td>0.0</td>\n",
       "      <td>1.0</td>\n",
       "      <td>0.082800</td>\n",
       "      <td>1.0</td>\n",
       "      <td>0.006856</td>\n",
       "      <td>557.382443</td>\n",
       "      <td>14.519131</td>\n",
       "      <td>0.117440</td>\n",
       "      <td>0.015267</td>\n",
       "      <td>...</td>\n",
       "      <td>0.075379</td>\n",
       "      <td>0.012526</td>\n",
       "      <td>0.733607</td>\n",
       "      <td>0.000157</td>\n",
       "      <td>2066.179045</td>\n",
       "      <td>32.413437</td>\n",
       "      <td>0.048520</td>\n",
       "      <td>0.010757</td>\n",
       "      <td>0.559282</td>\n",
       "      <td>0.000116</td>\n",
       "    </tr>\n",
       "    <tr>\n",
       "      <th>0</th>\n",
       "      <td>0.0</td>\n",
       "      <td>0.0</td>\n",
       "      <td>1.0</td>\n",
       "      <td>0.078950</td>\n",
       "      <td>1.0</td>\n",
       "      <td>0.006233</td>\n",
       "      <td>664.149299</td>\n",
       "      <td>19.310470</td>\n",
       "      <td>0.061154</td>\n",
       "      <td>0.010397</td>\n",
       "      <td>...</td>\n",
       "      <td>0.045299</td>\n",
       "      <td>0.009778</td>\n",
       "      <td>0.750276</td>\n",
       "      <td>0.000096</td>\n",
       "      <td>1485.146852</td>\n",
       "      <td>29.850676</td>\n",
       "      <td>0.036526</td>\n",
       "      <td>0.009308</td>\n",
       "      <td>0.620754</td>\n",
       "      <td>0.000087</td>\n",
       "    </tr>\n",
       "    <tr>\n",
       "      <th>...</th>\n",
       "      <td>...</td>\n",
       "      <td>...</td>\n",
       "      <td>...</td>\n",
       "      <td>...</td>\n",
       "      <td>...</td>\n",
       "      <td>...</td>\n",
       "      <td>...</td>\n",
       "      <td>...</td>\n",
       "      <td>...</td>\n",
       "      <td>...</td>\n",
       "      <td>...</td>\n",
       "      <td>...</td>\n",
       "      <td>...</td>\n",
       "      <td>...</td>\n",
       "      <td>...</td>\n",
       "      <td>...</td>\n",
       "      <td>...</td>\n",
       "      <td>...</td>\n",
       "      <td>...</td>\n",
       "      <td>...</td>\n",
       "      <td>...</td>\n",
       "    </tr>\n",
       "    <tr>\n",
       "      <th>0</th>\n",
       "      <td>0.0</td>\n",
       "      <td>0.0</td>\n",
       "      <td>1.0</td>\n",
       "      <td>0.076091</td>\n",
       "      <td>1.0</td>\n",
       "      <td>0.005790</td>\n",
       "      <td>1411.812808</td>\n",
       "      <td>27.609806</td>\n",
       "      <td>0.043412</td>\n",
       "      <td>0.009239</td>\n",
       "      <td>...</td>\n",
       "      <td>0.027942</td>\n",
       "      <td>0.008335</td>\n",
       "      <td>0.405786</td>\n",
       "      <td>0.000069</td>\n",
       "      <td>3688.209482</td>\n",
       "      <td>47.511381</td>\n",
       "      <td>0.022534</td>\n",
       "      <td>0.008204</td>\n",
       "      <td>0.213557</td>\n",
       "      <td>0.000067</td>\n",
       "    </tr>\n",
       "    <tr>\n",
       "      <th>0</th>\n",
       "      <td>0.0</td>\n",
       "      <td>0.0</td>\n",
       "      <td>1.0</td>\n",
       "      <td>0.075094</td>\n",
       "      <td>1.0</td>\n",
       "      <td>0.005639</td>\n",
       "      <td>304.685839</td>\n",
       "      <td>10.476070</td>\n",
       "      <td>0.161949</td>\n",
       "      <td>0.014980</td>\n",
       "      <td>...</td>\n",
       "      <td>0.049389</td>\n",
       "      <td>0.009887</td>\n",
       "      <td>0.754501</td>\n",
       "      <td>0.000098</td>\n",
       "      <td>2592.342092</td>\n",
       "      <td>39.602497</td>\n",
       "      <td>0.026368</td>\n",
       "      <td>0.008531</td>\n",
       "      <td>0.495923</td>\n",
       "      <td>0.000073</td>\n",
       "    </tr>\n",
       "    <tr>\n",
       "      <th>0</th>\n",
       "      <td>0.0</td>\n",
       "      <td>0.0</td>\n",
       "      <td>1.0</td>\n",
       "      <td>0.083320</td>\n",
       "      <td>1.0</td>\n",
       "      <td>0.006942</td>\n",
       "      <td>274.631459</td>\n",
       "      <td>9.894131</td>\n",
       "      <td>0.166134</td>\n",
       "      <td>0.018564</td>\n",
       "      <td>...</td>\n",
       "      <td>0.073627</td>\n",
       "      <td>0.012921</td>\n",
       "      <td>0.742942</td>\n",
       "      <td>0.000167</td>\n",
       "      <td>2164.963775</td>\n",
       "      <td>33.631829</td>\n",
       "      <td>0.040350</td>\n",
       "      <td>0.010719</td>\n",
       "      <td>0.497480</td>\n",
       "      <td>0.000115</td>\n",
       "    </tr>\n",
       "    <tr>\n",
       "      <th>0</th>\n",
       "      <td>0.0</td>\n",
       "      <td>0.0</td>\n",
       "      <td>1.0</td>\n",
       "      <td>0.085233</td>\n",
       "      <td>1.0</td>\n",
       "      <td>0.007265</td>\n",
       "      <td>1234.037094</td>\n",
       "      <td>26.612512</td>\n",
       "      <td>0.041441</td>\n",
       "      <td>0.010167</td>\n",
       "      <td>...</td>\n",
       "      <td>0.018004</td>\n",
       "      <td>0.009189</td>\n",
       "      <td>-0.196290</td>\n",
       "      <td>0.000084</td>\n",
       "      <td>2756.427940</td>\n",
       "      <td>41.638007</td>\n",
       "      <td>0.025499</td>\n",
       "      <td>0.009260</td>\n",
       "      <td>0.085144</td>\n",
       "      <td>0.000086</td>\n",
       "    </tr>\n",
       "    <tr>\n",
       "      <th>0</th>\n",
       "      <td>0.0</td>\n",
       "      <td>0.0</td>\n",
       "      <td>1.0</td>\n",
       "      <td>0.079306</td>\n",
       "      <td>1.0</td>\n",
       "      <td>0.006289</td>\n",
       "      <td>2324.304503</td>\n",
       "      <td>36.716289</td>\n",
       "      <td>0.031588</td>\n",
       "      <td>0.008843</td>\n",
       "      <td>...</td>\n",
       "      <td>0.028718</td>\n",
       "      <td>0.008678</td>\n",
       "      <td>0.271545</td>\n",
       "      <td>0.000075</td>\n",
       "      <td>3219.564516</td>\n",
       "      <td>43.478668</td>\n",
       "      <td>0.024900</td>\n",
       "      <td>0.008723</td>\n",
       "      <td>0.195288</td>\n",
       "      <td>0.000076</td>\n",
       "    </tr>\n",
       "  </tbody>\n",
       "</table>\n",
       "<p>4512 rows × 96 columns</p>\n",
       "</div>"
      ],
      "text/plain": [
       "    contrast00256  dissimilarity00256  homogeneity00256  energy00256  \\\n",
       "0             0.0                 0.0               1.0     0.109267   \n",
       "0             0.0                 0.0               1.0     0.089057   \n",
       "0             0.0                 0.0               1.0     0.086952   \n",
       "0             0.0                 0.0               1.0     0.082800   \n",
       "0             0.0                 0.0               1.0     0.078950   \n",
       "..            ...                 ...               ...          ...   \n",
       "0             0.0                 0.0               1.0     0.076091   \n",
       "0             0.0                 0.0               1.0     0.075094   \n",
       "0             0.0                 0.0               1.0     0.083320   \n",
       "0             0.0                 0.0               1.0     0.085233   \n",
       "0             0.0                 0.0               1.0     0.079306   \n",
       "\n",
       "    correlation00256  ASM00256  contrast01256  dissimilarity01256  \\\n",
       "0                1.0  0.011939     129.773991            7.674705   \n",
       "0                1.0  0.007931    2485.057825           39.998278   \n",
       "0                1.0  0.007561     417.124446           11.890933   \n",
       "0                1.0  0.006856     557.382443           14.519131   \n",
       "0                1.0  0.006233     664.149299           19.310470   \n",
       "..               ...       ...            ...                 ...   \n",
       "0                1.0  0.005790    1411.812808           27.609806   \n",
       "0                1.0  0.005639     304.685839           10.476070   \n",
       "0                1.0  0.006942     274.631459            9.894131   \n",
       "0                1.0  0.007265    1234.037094           26.612512   \n",
       "0                1.0  0.006289    2324.304503           36.716289   \n",
       "\n",
       "    homogeneity01256  energy01256  ...  homogeneity2.3561944901923453256  \\\n",
       "0           0.154860     0.022015  ...                          0.111265   \n",
       "0           0.023768     0.009696  ...                          0.024970   \n",
       "0           0.136776     0.016973  ...                          0.074291   \n",
       "0           0.117440     0.015267  ...                          0.075379   \n",
       "0           0.061154     0.010397  ...                          0.045299   \n",
       "..               ...          ...  ...                               ...   \n",
       "0           0.043412     0.009239  ...                          0.027942   \n",
       "0           0.161949     0.014980  ...                          0.049389   \n",
       "0           0.166134     0.018564  ...                          0.073627   \n",
       "0           0.041441     0.010167  ...                          0.018004   \n",
       "0           0.031588     0.008843  ...                          0.028718   \n",
       "\n",
       "    energy2.3561944901923453256  correlation2.3561944901923453256  \\\n",
       "0                      0.019183                          0.857710   \n",
       "0                      0.009696                          0.008804   \n",
       "0                      0.012921                          0.739375   \n",
       "0                      0.012526                          0.733607   \n",
       "0                      0.009778                          0.750276   \n",
       "..                          ...                               ...   \n",
       "0                      0.008335                          0.405786   \n",
       "0                      0.009887                          0.754501   \n",
       "0                      0.012921                          0.742942   \n",
       "0                      0.009189                         -0.196290   \n",
       "0                      0.008678                          0.271545   \n",
       "\n",
       "    ASM2.3561944901923453256  contrast2.3561944901923455256  \\\n",
       "0                   0.000368                     674.418835   \n",
       "0                   0.000094                    2395.573556   \n",
       "0                   0.000167                    3342.736863   \n",
       "0                   0.000157                    2066.179045   \n",
       "0                   0.000096                    1485.146852   \n",
       "..                       ...                            ...   \n",
       "0                   0.000069                    3688.209482   \n",
       "0                   0.000098                    2592.342092   \n",
       "0                   0.000167                    2164.963775   \n",
       "0                   0.000084                    2756.427940   \n",
       "0                   0.000075                    3219.564516   \n",
       "\n",
       "    dissimilarity2.3561944901923455256  homogeneity2.3561944901923455256  \\\n",
       "0                            16.474246                          0.084893   \n",
       "0                            39.382999                          0.025601   \n",
       "0                            40.981660                          0.052787   \n",
       "0                            32.413437                          0.048520   \n",
       "0                            29.850676                          0.036526   \n",
       "..                                 ...                               ...   \n",
       "0                            47.511381                          0.022534   \n",
       "0                            39.602497                          0.026368   \n",
       "0                            33.631829                          0.040350   \n",
       "0                            41.638007                          0.025499   \n",
       "0                            43.478668                          0.024900   \n",
       "\n",
       "    energy2.3561944901923455256  correlation2.3561944901923455256  \\\n",
       "0                      0.017725                          0.723170   \n",
       "0                      0.009755                          0.023315   \n",
       "0                      0.011009                          0.438049   \n",
       "0                      0.010757                          0.559282   \n",
       "0                      0.009308                          0.620754   \n",
       "..                          ...                               ...   \n",
       "0                      0.008204                          0.213557   \n",
       "0                      0.008531                          0.495923   \n",
       "0                      0.010719                          0.497480   \n",
       "0                      0.009260                          0.085144   \n",
       "0                      0.008723                          0.195288   \n",
       "\n",
       "    ASM2.3561944901923455256  \n",
       "0                   0.000314  \n",
       "0                   0.000095  \n",
       "0                   0.000121  \n",
       "0                   0.000116  \n",
       "0                   0.000087  \n",
       "..                       ...  \n",
       "0                   0.000067  \n",
       "0                   0.000073  \n",
       "0                   0.000115  \n",
       "0                   0.000086  \n",
       "0                   0.000076  \n",
       "\n",
       "[4512 rows x 96 columns]"
      ]
     },
     "execution_count": 156,
     "metadata": {},
     "output_type": "execute_result"
    }
   ],
   "source": [
    "image_features_train"
   ]
  },
  {
   "attachments": {},
   "cell_type": "markdown",
   "metadata": {},
   "source": [
    "##### Wykonano trening na wszystkich cechach"
   ]
  },
  {
   "attachments": {},
   "cell_type": "markdown",
   "metadata": {},
   "source": [
    "##### SVM "
   ]
  },
  {
   "cell_type": "code",
   "execution_count": 157,
   "metadata": {},
   "outputs": [
    {
     "data": {
      "text/plain": [
       "(4512, 96)"
      ]
     },
     "execution_count": 157,
     "metadata": {},
     "output_type": "execute_result"
    }
   ],
   "source": [
    "X_train2 = train_data\n",
    "X_test2 = test_data\n",
    "np.shape(test_data)\n",
    "np.shape(train_data)\n"
   ]
  },
  {
   "cell_type": "code",
   "execution_count": 335,
   "metadata": {},
   "outputs": [
    {
     "data": {
      "text/plain": [
       "(4512, 96)"
      ]
     },
     "execution_count": 335,
     "metadata": {},
     "output_type": "execute_result"
    }
   ],
   "source": [
    "train_data = X_train2\n",
    "test_data = X_test2\n",
    "np.shape(test_data)\n",
    "np.shape(train_data)"
   ]
  },
  {
   "cell_type": "code",
   "execution_count": 336,
   "metadata": {},
   "outputs": [
    {
     "name": "stderr",
     "output_type": "stream",
     "text": [
      "c:\\Users\\MaciejGielerts176137\\miniconda3\\envs\\tfdml_plugin\\lib\\site-packages\\sklearn\\feature_selection\\_univariate_selection.py:112: UserWarning: Features [ 0  1  2  4 24 25 26 28 48 49 50 52 72 73 74 76] are constant.\n",
      "  warnings.warn(\"Features %s are constant.\" % constant_features_idx, UserWarning)\n",
      "c:\\Users\\MaciejGielerts176137\\miniconda3\\envs\\tfdml_plugin\\lib\\site-packages\\sklearn\\feature_selection\\_univariate_selection.py:113: RuntimeWarning: invalid value encountered in divide\n",
      "  f = msb / msw\n"
     ]
    }
   ],
   "source": [
    "from sklearn.datasets import load_iris\n",
    "from sklearn.feature_selection import SelectKBest\n",
    "from sklearn.feature_selection import f_classif\n",
    "\n",
    "sel = SelectKBest(f_classif, k=40).fit(X_train2, y_train)\n",
    "train_data = sel.transform(train_data)\n",
    "test_data = sel.transform(test_data)\n"
   ]
  },
  {
   "cell_type": "code",
   "execution_count": 337,
   "metadata": {},
   "outputs": [
    {
     "name": "stdout",
     "output_type": "stream",
     "text": [
      "(1128, 40)\n",
      "(4512, 40)\n"
     ]
    }
   ],
   "source": [
    "print(np.shape(test_data))\n",
    "print(np.shape(train_data))"
   ]
  },
  {
   "cell_type": "code",
   "execution_count": 338,
   "metadata": {},
   "outputs": [],
   "source": [
    "from sklearn.ensemble import RandomForestClassifier\n",
    "\n",
    "clf = RandomForestClassifier(n_estimators = 50, random_state = 4235).fit(train_data , y_train)"
   ]
  },
  {
   "cell_type": "code",
   "execution_count": 339,
   "metadata": {},
   "outputs": [
    {
     "name": "stdout",
     "output_type": "stream",
     "text": [
      "[10  9  5 ... 21 44 15]\n",
      "[17 13 29 ... 38 25 22]\n"
     ]
    }
   ],
   "source": [
    "y_pred = clf.predict(test_data)\n",
    "print(y_pred)\n",
    "print(y_test)"
   ]
  },
  {
   "cell_type": "code",
   "execution_count": 340,
   "metadata": {},
   "outputs": [
    {
     "name": "stdout",
     "output_type": "stream",
     "text": [
      "0.23581560283687944 0.22429907811307742 0.24009306134756317 0.23582699102276916\n"
     ]
    }
   ],
   "source": [
    "from sklearn.metrics import accuracy_score, f1_score, precision_score, recall_score\n",
    "acc = accuracy_score(y_test, y_pred)\n",
    "f1 = f1_score(y_test, y_pred, average='macro')\n",
    "prec = precision_score(y_test, y_pred, average='macro')\n",
    "recall = recall_score(y_test, y_pred, average='macro')\n",
    "\n",
    "print(f'{acc} {f1} {prec} {recall}')"
   ]
  },
  {
   "attachments": {},
   "cell_type": "markdown",
   "metadata": {},
   "source": [
    "##### Random Forest"
   ]
  },
  {
   "cell_type": "code",
   "execution_count": null,
   "metadata": {},
   "outputs": [],
   "source": []
  },
  {
   "attachments": {},
   "cell_type": "markdown",
   "metadata": {},
   "source": [
    "##### LightGBM"
   ]
  },
  {
   "attachments": {},
   "cell_type": "markdown",
   "metadata": {},
   "source": [
    "##### Następnie sprawdzono klasyfikację przy 4 cechach: energii, homogeniczności, kontraście i korelacji"
   ]
  },
  {
   "attachments": {},
   "cell_type": "markdown",
   "metadata": {},
   "source": [
    "##### SVM "
   ]
  },
  {
   "cell_type": "code",
   "execution_count": null,
   "metadata": {},
   "outputs": [],
   "source": []
  },
  {
   "attachments": {},
   "cell_type": "markdown",
   "metadata": {},
   "source": [
    "##### Random Forest"
   ]
  },
  {
   "cell_type": "code",
   "execution_count": null,
   "metadata": {},
   "outputs": [],
   "source": []
  },
  {
   "attachments": {},
   "cell_type": "markdown",
   "metadata": {},
   "source": [
    "##### LightGBM"
   ]
  },
  {
   "cell_type": "code",
   "execution_count": null,
   "metadata": {},
   "outputs": [],
   "source": []
  },
  {
   "attachments": {},
   "cell_type": "markdown",
   "metadata": {},
   "source": [
    "##### Na koniec przetestowano homogeniczność, kontrast, korelacja, odmienność"
   ]
  },
  {
   "attachments": {},
   "cell_type": "markdown",
   "metadata": {},
   "source": [
    "##### SVM "
   ]
  },
  {
   "cell_type": "code",
   "execution_count": null,
   "metadata": {},
   "outputs": [],
   "source": []
  },
  {
   "attachments": {},
   "cell_type": "markdown",
   "metadata": {},
   "source": [
    "##### Random Forest"
   ]
  },
  {
   "cell_type": "code",
   "execution_count": null,
   "metadata": {},
   "outputs": [],
   "source": []
  },
  {
   "attachments": {},
   "cell_type": "markdown",
   "metadata": {},
   "source": [
    "##### LightGBM"
   ]
  },
  {
   "cell_type": "code",
   "execution_count": null,
   "metadata": {},
   "outputs": [],
   "source": []
  },
  {
   "attachments": {},
   "cell_type": "markdown",
   "metadata": {},
   "source": [
    "#### WNIOSKI:"
   ]
  },
  {
   "cell_type": "markdown",
   "metadata": {},
   "source": []
  }
 ],
 "metadata": {
  "kernelspec": {
   "display_name": "tfdml_plugin",
   "language": "python",
   "name": "python3"
  },
  "language_info": {
   "codemirror_mode": {
    "name": "ipython",
    "version": 3
   },
   "file_extension": ".py",
   "mimetype": "text/x-python",
   "name": "python",
   "nbconvert_exporter": "python",
   "pygments_lexer": "ipython3",
   "version": "3.9.15"
  },
  "orig_nbformat": 4,
  "vscode": {
   "interpreter": {
    "hash": "1012f203b04506b130291f052b899c30bc3a01caefe658dd9d81239637d641ad"
   }
  }
 },
 "nbformat": 4,
 "nbformat_minor": 2
}
